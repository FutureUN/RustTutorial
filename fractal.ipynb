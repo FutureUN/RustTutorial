{
 "cells": [
  {
   "cell_type": "markdown",
   "metadata": {},
   "source": [
    "## Variables y mutabilidad \n",
    "\n",
    "Por defecto las variables en Rust son **inmutables**. Este es uno de los muchos codazos que brinda Rust para escribir código en una manera que aproveche la seguridad y facilidad de hacer concurrencia que ofrece Rust.\n",
    "\n",
    "Cuando una variable es inmutable, una vez que un valor está vinculado a un nombre, no puede cambiar ese valor. Para ilustrar esto, veremos un ejemplo: "
   ]
  },
  {
   "cell_type": "code",
   "execution_count": 16,
   "metadata": {
    "scrolled": true
   },
   "outputs": [
    {
     "ename": "Error",
     "evalue": "cannot assign twice to immutable variable `x`",
     "output_type": "error",
     "traceback": [
      "    let x = 5;",
      "\u001b[91m        ^\u001b[0m \u001b[94mfirst assignment to `x`\u001b[0m",
      "    x = 6;",
      "\u001b[91m    ^^^^^\u001b[0m \u001b[94mcannot assign twice to immutable variable\u001b[0m",
      "cannot assign twice to immutable variable `x`"
     ]
    }
   ],
   "source": [
    "fn main() {\n",
    "    let x = 5;\n",
    "    format!(\"The value of x is: {}\", x);\n",
    "    x = 6;\n",
    "    eprintln!(\"The value of x is: {}\", x);\n",
    "}\n",
    "main()"
   ]
  },
  {
   "cell_type": "markdown",
   "metadata": {},
   "source": [
    "El mensaje de error indica que la causa del error es que no puede asignar dos veces a la variable inmutable x, porque trató de asignar un segundo valor a la variable inmutable x."
   ]
  },
  {
   "cell_type": "markdown",
   "metadata": {},
   "source": [
    "Los enlaces variables son inmutables por defecto, pero esto se puede anular utilizando el modificador **mut.**"
   ]
  },
  {
   "cell_type": "code",
   "execution_count": 30,
   "metadata": {},
   "outputs": [
    {
     "ename": "Error",
     "evalue": "cannot assign twice to immutable variable `_immutable_binding`",
     "output_type": "error",
     "traceback": [
      "    let _immutable_binding = 1;",
      "\u001b[91m        ^^^^^^^^^^^^^^^^^^\u001b[0m \u001b[94mfirst assignment to `_immutable_binding`\u001b[0m",
      "    _immutable_binding += 1;",
      "\u001b[91m    ^^^^^^^^^^^^^^^^^^^^^^^\u001b[0m \u001b[94mcannot assign twice to immutable variable\u001b[0m",
      "cannot assign twice to immutable variable `_immutable_binding`"
     ]
    }
   ],
   "source": [
    "fn main() {\n",
    "    let _immutable_binding = 1;\n",
    "    let mut mutable_binding = 1;\n",
    "\n",
    "    println!(\"Before mutation: {}\", mutable_binding);\n",
    "\n",
    "    // Ok\n",
    "    mutable_binding += 1;\n",
    "\n",
    "    println!(\"After mutation: {}\", mutable_binding);\n",
    "\n",
    "    // Error!\n",
    "    _immutable_binding += 1;\n",
    "    // FIXME ^ Comment out this line\n",
    "}\n",
    "main()"
   ]
  },
  {
   "cell_type": "markdown",
   "metadata": {},
   "source": [
    "## Referencia y *Borrowing*\n",
    "\n",
    "Para entender las Referencias y el *Borrowing* es bueno verlo con un ejemplo: \n"
   ]
  },
  {
   "cell_type": "code",
   "execution_count": null,
   "metadata": {},
   "outputs": [],
   "source": [
    "fn main() {\n",
    "    let s1 = String::from(\"hello\");\n",
    "\n",
    "    let len = calculate_length(&s1);\n",
    "\n",
    "    println!(\"The length of '{}' is {}.\", s1, len);\n",
    "}\n",
    "\n",
    "fn calculate_length(s: &String) -> usize {\n",
    "    s.len()\n",
    "} // Here, s goes out of scope. But because it does not have ownership of what\n",
    "  // it refers to, nothing happens."
   ]
  },
  {
   "cell_type": "markdown",
   "metadata": {},
   "source": [
    "Los ampersands son referencias y permiten referirse a algún valor sin tomar *ownership* de él. \n",
    "\n",
    "![image.png](attachment:image.png)/y\n",
    "\n",
    "\n",
    "La sintaxis *&s1* nos permite crear una referencia que se refiere al valor de **s1** pero que no lo posee. Como no lo posee, el valor al que apunta no se descartará cuando la referencia salga del alcance (*scope*)."
   ]
  },
  {
   "cell_type": "markdown",
   "metadata": {},
   "source": [
    "Qué pasa si traramos de **modificar** algo que pedimos prestado? "
   ]
  },
  {
   "cell_type": "code",
   "execution_count": 32,
   "metadata": {},
   "outputs": [
    {
     "ename": "Error",
     "evalue": "cannot borrow `*some_string` as mutable, as it is behind a `&` reference",
     "output_type": "error",
     "traceback": [
      "    some_string.push_str(\", world\");",
      "\u001b[91m    ^^^^^^^^^^^\u001b[0m \u001b[94m`some_string` is a `&` reference, so the data it refers to cannot be borrowed as mutable\u001b[0m",
      "cannot borrow `*some_string` as mutable, as it is behind a `&` reference"
     ]
    }
   ],
   "source": [
    "fn main() {\n",
    "    let s = String::from(\"hello\");\n",
    "\n",
    "    change(&s);\n",
    "}\n",
    "\n",
    "fn change(some_string: &String) {\n",
    "    some_string.push_str(\", world\");\n",
    "}\n",
    "\n",
    "main()"
   ]
  },
  {
   "cell_type": "markdown",
   "metadata": {},
   "source": [
    "Nos aparecerá un error como:  *some_string` is a `&` reference, so the data it refers to cannot be borrowed as mutable`*. \n",
    "\n",
    "> Hay que recordar que por defecto las variables son inmutables, al igual que las referencias. No podemos modificar algo a lo que tenemos referencia.\n",
    "\n",
    "\n",
    "## Referencias mutables \n",
    "\n",
    "Podemos corregir el error en el código del Listado 4-6 con solo un pequeño ajuste:\n"
   ]
  },
  {
   "cell_type": "code",
   "execution_count": 33,
   "metadata": {},
   "outputs": [
    {
     "data": {
      "text/plain": [
       "()"
      ]
     },
     "execution_count": 33,
     "metadata": {},
     "output_type": "execute_result"
    }
   ],
   "source": [
    "fn main() {\n",
    "    let mut s = String::from(\"hello\");\n",
    "\n",
    "    change(&mut s);\n",
    "}\n",
    "\n",
    "fn change(some_string: &mut String) {\n",
    "    some_string.push_str(\", world\");\n",
    "}\n",
    "\n",
    "main()"
   ]
  },
  {
   "cell_type": "markdown",
   "metadata": {},
   "source": [
    "Primero, tuvimos que **cambiar s** para ser *mut*. Luego tuvimos que crear una referencia mutable con *&mut s* y aceptar una referencia mutable con *some_string: & mut String*.\n",
    "\n",
    "> Pero las referencias mutables tienen una gran restricción: solo puede tener una referencia mutable a un dato en particular en un ámbito particular. Este código fallará\n"
   ]
  },
  {
   "cell_type": "code",
   "execution_count": 34,
   "metadata": {},
   "outputs": [
    {
     "ename": "Error",
     "evalue": "`s` does not live long enough",
     "output_type": "error",
     "traceback": [
      "let r1 = &mut s;",
      "\u001b[91m         ^^^^^^\u001b[0m \u001b[94mborrowed value does not live long enough\u001b[0m",
      "`s` does not live long enough"
     ]
    },
    {
     "ename": "Error",
     "evalue": "cannot borrow `s` as mutable more than once at a time",
     "output_type": "error",
     "traceback": [
      "let r1 = &mut s;",
      "\u001b[91m         ^^^^^^\u001b[0m \u001b[94mfirst mutable borrow occurs here\u001b[0m",
      "let r2 = &mut s;",
      "\u001b[91m         ^^^^^^\u001b[0m \u001b[94msecond mutable borrow occurs here\u001b[0m",
      "cannot borrow `s` as mutable more than once at a time"
     ]
    },
    {
     "ename": "Error",
     "evalue": "cannot move out of `s` because it is borrowed",
     "output_type": "error",
     "traceback": [
      "let r1 = &mut s;",
      "\u001b[91m         ^^^^^^\u001b[0m \u001b[94mborrow of `s` occurs here\u001b[0m",
      "cannot move out of `s` because it is borrowed"
     ]
    }
   ],
   "source": [
    "let mut s = String::from(\"hello\");\n",
    "\n",
    "let r1 = &mut s;\n",
    "let r2 = &mut s;\n",
    "\n",
    "println!(\"{}, {}\", r1, r2);"
   ]
  },
  {
   "cell_type": "markdown",
   "metadata": {},
   "source": [
    "## Ejemplo de mutabilidad y Borrowing "
   ]
  },
  {
   "cell_type": "code",
   "execution_count": 28,
   "metadata": {},
   "outputs": [
    {
     "name": "stdout",
     "output_type": "stream",
     "text": [
      "I immutably borrowed Gödel, Escher, Bach - 1979 edition\n",
      "I immutably borrowed Gödel, Escher, Bach - 1979 edition\n",
      "I mutably borrowed Gödel, Escher, Bach - 2979 edition\n",
      "h 2979\n"
     ]
    }
   ],
   "source": [
    "struct Book {\n",
    "    // `&'static str` es una referencia a un string alocato en memoia de solo relctura \n",
    "    author: &'static str,\n",
    "    title: &'static str,\n",
    "    year: u32,\n",
    "}\n",
    "\n",
    "//  Funcion toma como referencia un Book\n",
    "fn borrow_book(book: &Book) {\n",
    "    println!(\"I immutably borrowed {} - {} edition\", book.title, book.year);\n",
    "}\n",
    "\n",
    "// Funcion toma como referencia un Book mutable y cambia incrementa el year + 1\n",
    "fn new_edition(book: &mut Book) {\n",
    "    book.year = book.year + 1000 ;\n",
    "    println!(\"I mutably borrowed {} - {} edition\", book.title, book.year);\n",
    "}\n",
    "\n",
    "// Crea un libro inmutable `immutabook`\n",
    "let immutabook = Book {\n",
    "    // string literals have type `&'static str`\n",
    "    author: \"Douglas Hofstadter\",\n",
    "    title: \"Gödel, Escher, Bach\",\n",
    "    year: 1979,\n",
    "};\n",
    "    \n",
    "// Immutably borrow an immutable object\n",
    "borrow_book(&immutabook);\n",
    "\n",
    "// Create a mutable copy of `immutabook` and call it `mutabook`\n",
    "let mut mutabook = immutabook;\n",
    "\n",
    "// Immutably borrow a mutable object\n",
    "borrow_book(&mutabook);\n",
    "    \n",
    "// Borrow a mutable object as mutable\n",
    "new_edition(&mut mutabook);\n",
    "\n",
    "//new_edition(&mut immutabook);"
   ]
  },
  {
   "cell_type": "code",
   "execution_count": null,
   "metadata": {},
   "outputs": [],
   "source": []
  },
  {
   "cell_type": "markdown",
   "metadata": {},
   "source": [
    "## Ejemplo "
   ]
  },
  {
   "cell_type": "code",
   "execution_count": 2,
   "metadata": {},
   "outputs": [],
   "source": [
    ":dep threadpool = \"1.7.1\"\n",
    ":dep num = \"0.2.0\"\n",
    ":dep num_cpus = \"1.11.1\"\n",
    ":dep image = \"0.22.3\"\n",
    "\n",
    "extern crate threadpool;\n",
    "extern crate num;\n",
    "extern crate num_cpus;\n",
    "extern crate image;\n",
    "\n",
    "use std::error::Error;\n",
    "use std::sync::mpsc::{channel, RecvError};\n",
    "use threadpool::ThreadPool;\n",
    "use num::complex::Complex;\n",
    "use image::{ImageBuffer, Pixel, Rgb};\n",
    "\n",
    "fn wavelength_to_rgb(wavelength: u32) -> Rgb<u8> {\n",
    "     let wave = wavelength as f32;\n",
    "\n",
    "     let (r, g, b) = match wavelength {\n",
    "         380..=439 => ((440. - wave) / (440. - 380.), 0.0, 1.0),\n",
    "         440..=489 => (0.0, (wave - 440.) / (490. - 440.), 1.0),\n",
    "         490..=509 => (0.0, 1.0, (510. - wave) / (510. - 490.)),\n",
    "         510..=579 => ((wave - 510.) / (580. - 510.), 1.0, 0.0),\n",
    "         580..=644 => (1.0, (645. - wave) / (645. - 580.), 0.0),\n",
    "         645..=780 => (1.0, 0.0, 0.0),\n",
    "         _ => (0.0, 0.0, 0.0),\n",
    "     };\n",
    "\n",
    "     let factor = match wavelength {\n",
    "         380..=419 => 0.3 + 0.7 * (wave - 380.) / (420. - 380.),\n",
    "         701..=780 => 0.3 + 0.7 * (780. - wave) / (780. - 700.),\n",
    "         _ => 1.0,\n",
    "     };\n",
    "\n",
    "     let (r, g, b) = (normalize(r, factor), normalize(g, factor), normalize(b, factor));\n",
    "     Rgb::from_channels(r, g, b, 0)\n",
    " }\n",
    "\n",
    " // Maps Julia set distance estimation to intensity values\n",
    " fn julia(c: Complex<f32>, x: u32, y: u32, width: u32, height: u32, max_iter: u32) -> u32 {\n",
    "     let width = width as f32;\n",
    "     let height = height as f32;\n",
    "\n",
    "     let mut z = Complex {\n",
    "         // scale and translate the point to image coordinates\n",
    "         re: 3.0 * (x as f32 - 0.5 * width) / width,\n",
    "         im: 2.0 * (y as f32 - 0.5 * height) / height,\n",
    "     };\n",
    "\n",
    "     let mut i = 0;\n",
    "     for t in 0..max_iter {\n",
    "         if z.norm() >= 2.0 {\n",
    "             break;\n",
    "         }\n",
    "         z = z * z + c;\n",
    "         i = t;\n",
    "     }\n",
    "     i\n",
    " }\n",
    "\n",
    " // Normalizes color intensity values within RGB range\n",
    " fn normalize(color: f32, factor: f32) -> u8 {\n",
    "     ((color * factor).powf(0.8) * 255.) as u8\n",
    " }"
   ]
  },
  {
   "cell_type": "code",
   "execution_count": 7,
   "metadata": {},
   "outputs": [
    {
     "data": {
      "text/plain": [
       "Ok(())"
      ]
     },
     "execution_count": 7,
     "metadata": {},
     "output_type": "execute_result"
    }
   ],
   "source": [
    "fn main() -> Result<(), Box<dyn Error>> {\n",
    "    let (width, height) = (1920, 1080);\n",
    "    let mut img = ImageBuffer::new(width, height);\n",
    "    let iterations = 300;\n",
    "\n",
    "    let c = Complex::new(-0.8,  0.20);\n",
    "\n",
    "    let pool = ThreadPool::new(num_cpus::get());\n",
    "    let (tx, rx) = channel();\n",
    "\n",
    "    for y in 0..height {\n",
    "        let tx1 = tx.clone();\n",
    "        pool.execute(move || for x in 0..width/2 {\n",
    "                         let i = julia(c, x, y, width, height, iterations);\n",
    "                         let pixel = wavelength_to_rgb(380 + i * 400 / iterations);\n",
    "                         tx1.send((x, y, pixel)).expect(\"Could not send data!\");\n",
    "                     });\n",
    "        let tx2 = tx.clone();\n",
    "        pool.execute(move || for x in width/2..width {\n",
    "                         let i = julia(c, x, y, width, height, iterations);\n",
    "                         let pixel = wavelength_to_rgb(380 + i * 400 / iterations);\n",
    "                         tx2.send((x, y, pixel)).expect(\"Could not send data!\");\n",
    "                     });\n",
    "    }\n",
    "\n",
    "    for _ in 0..(width * height) {\n",
    "        let (x, y, pixel) = rx.recv()?;\n",
    "        img.put_pixel(x, y, pixel);\n",
    "    }\n",
    "    let _ = img.save(\"output.png\")?;\n",
    "    Ok(())\n",
    "}\n",
    "\n",
    "main()"
   ]
  },
  {
   "cell_type": "markdown",
   "metadata": {},
   "source": [
    "\n"
   ]
  },
  {
   "cell_type": "markdown",
   "metadata": {},
   "source": [
    "![output.png](output.png)"
   ]
  },
  {
   "cell_type": "code",
   "execution_count": null,
   "metadata": {},
   "outputs": [],
   "source": []
  }
 ],
 "metadata": {
  "kernelspec": {
   "display_name": "Rust",
   "language": "rust",
   "name": "rust"
  },
  "language_info": {
   "codemirror_mode": "rust",
   "file_extension": ".rs",
   "mimetype": "text/rust",
   "name": "Rust",
   "pygment_lexer": "rust",
   "version": ""
  }
 },
 "nbformat": 4,
 "nbformat_minor": 2
}
