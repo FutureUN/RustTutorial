{
 "cells": [
  {
   "cell_type": "markdown",
   "metadata": {},
   "source": [
    "# Taller Rust\n",
    "\n",
    "A continuación se propone un taller para complementar el tutorial realizado para este lenguaje, puede [descargar](https://doc.rust-lang.org/book/ch01-01-installation.html) rust e instalarlo localmente o realizar el taller directamente en este notebook"
   ]
  },
  {
   "cell_type": "markdown",
   "metadata": {},
   "source": [
    "Teniendo en cuenta el siguiente ejemplo donde se modifica el tipo de una variable, realice un ejercicio donde declare una variable entera con el valor que usted quiera y luego se declare como un decimal que contenga su raiz cuadrada\n"
   ]
  },
  {
   "cell_type": "code",
   "execution_count": 8,
   "metadata": {},
   "outputs": [
    {
     "data": {
      "text/html": [
       "<table><tr><th>Variable</th><th>Type</th></tr><tr><td>variable</td><td>&str</td><tr></table>"
      ],
      "text/plain": [
       "variable: &str\n"
      ]
     },
     "execution_count": 8,
     "metadata": {},
     "output_type": "execute_result"
    },
    {
     "data": {
      "text/html": [
       "<table><tr><th>Variable</th><th>Type</th></tr><tr><td>variable</td><td>usize</td><tr></table>"
      ],
      "text/plain": [
       "variable: usize\n"
      ]
     },
     "execution_count": 8,
     "metadata": {},
     "output_type": "execute_result"
    },
    {
     "name": "stdout",
     "output_type": "stream",
     "text": [
      "variable 4\n"
     ]
    }
   ],
   "source": [
    "// se crea un literal de string\n",
    "let variable = \"UNAL\";\n",
    ":vars\n",
    "// se redeclara la variable para que contenga el tamaño del string declarado anteriormente\n",
    "let variable = variable.len();\n",
    "// el tipo de la variable cambio\n",
    ":vars\n",
    "\n",
    "println!(\"variable {}\", variable);"
   ]
  },
  {
   "cell_type": "markdown",
   "metadata": {},
   "source": [
    "Cual es el error del siguiente programa, corrijalo"
   ]
  },
  {
   "cell_type": "code",
   "execution_count": 9,
   "metadata": {},
   "outputs": [
    {
     "ename": "Error",
     "evalue": "invalid left-hand side expression",
     "output_type": "error",
     "traceback": [
      "    THRESHOLD = 5;",
      "\u001b[91m    ^^^^^^^^^^^^^\u001b[0m \u001b[94mleft-hand of expression not valid\u001b[0m",
      "invalid left-hand side expression"
     ]
    }
   ],
   "source": [
    "static LANGUAGE: &str = \"Rust\";\n",
    "const THRESHOLD: i32 = 10;\n",
    "\n",
    "fn is_big(n: i32) -> bool {\n",
    "   \n",
    "    n > THRESHOLD\n",
    "}\n",
    "\n",
    "fn main() {\n",
    "    let n = 16;\n",
    "\n",
    "    println!(\"This is {}\", LANGUAGE);\n",
    "    println!(\"The threshold is {}\", THRESHOLD);\n",
    "    println!(\"{} is {}\", n, if is_big(n) { \"big\" } else { \"small\" });\n",
    "\n",
    "    THRESHOLD = 5;\n",
    "   \n",
    "}\n"
   ]
  },
  {
   "cell_type": "markdown",
   "metadata": {},
   "source": [
    "Corra el siguiente ejemplo e interactúe con el alcance de las variables dentro del bloque, corrija los errores. Ahora trate de pasar la variable short_lived_binding al alcance del main."
   ]
  },
  {
   "cell_type": "code",
   "execution_count": 13,
   "metadata": {},
   "outputs": [
    {
     "name": "stdout",
     "output_type": "stream",
     "text": [
      "inner short: 2\n",
      "inner long: 5\n",
      "outer short: 2\n",
      "outer long: 1\n",
      "outer long: a\n"
     ]
    },
    {
     "data": {
      "text/plain": [
       "()"
      ]
     },
     "execution_count": 13,
     "metadata": {},
     "output_type": "execute_result"
    }
   ],
   "source": [
    " // This binding lives in the main function\n",
    "    let long_lived_binding = 1;\n",
    "\n",
    "    // This is a block, and has a smaller scope than the main function\n",
    "    {\n",
    "        // This binding only exists in this block\n",
    "        let short_lived_binding = 2;\n",
    "        tmp = short_lived_binding;\n",
    "        println!(\"inner short: {}\", short_lived_binding);\n",
    "\n",
    "        // This binding *shadows* the outer one\n",
    "        let long_lived_binding = 5_f32;\n",
    "\n",
    "        println!(\"inner long: {}\", long_lived_binding);\n",
    "    }\n",
    "    // End of the block\n",
    "\n",
    "    // Error! `short_lived_binding` doesn't exist in this scope\n",
    "    println!(\"outer short: {}\", short_lived_binding);\n",
    "\n",
    "    println!(\"outer long: {}\", long_lived_binding);\n",
    "    \n",
    "    // This binding also *shadows* the previous binding\n",
    "    let long_lived_binding = 'a';\n",
    "    \n",
    "    println!(\"outer long: {}\", long_lived_binding);\n",
    "\n"
   ]
  },
  {
   "cell_type": "markdown",
   "metadata": {},
   "source": [
    "Dentro del siguiente ejemplo se ve el manejo de arreglos y tuplas. Dado el ultimo arreglo de strings, genere una tupla que contenga el segundo string del arreglo junto con su tupla"
   ]
  },
  {
   "cell_type": "code",
   "execution_count": 22,
   "metadata": {},
   "outputs": [
    {
     "name": "stdout",
     "output_type": "stream",
     "text": [
      "El valor de la tupla es: (500, 6.4)\n",
      "El valor de la tupla es: (500, 6.4)\n"
     ]
    },
    {
     "data": {
      "text/html": [
       "<table><tr><th>Variable</th><th>Type</th></tr><tr><td>seis_punto_cuatro</td><td>f64</td><tr><tr><td>x</td><td>( i32 , f64 )</td><tr><tr><td>arr</td><td>[i32; 5]</td><tr><tr><td>quinientos</td><td>i32</td><tr></table>"
      ],
      "text/plain": [
       "seis_punto_cuatro: f64\n",
       "x: ( i32 , f64 )\n",
       "arr: [i32; 5]\n",
       "quinientos: i32\n"
      ]
     },
     "execution_count": 22,
     "metadata": {},
     "output_type": "execute_result"
    },
    {
     "ename": "Error",
     "evalue": "invalid format string: expected `'}'`, found `'?'`",
     "output_type": "error",
     "traceback": [
      "println!( \"Tupla que contiene el segundo nombre, junto con su tamaño {?:} \", tup);",
      "\u001b[91m                                                                      \u001b[0m \u001b[94mexpected `}` in format string\u001b[0m",
      "println!( \"Tupla que contiene el segundo nombre, junto con su tamaño {?:} \", tup);",
      "\u001b[91m                                                                     ^\u001b[0m \u001b[94mbecause of this opening brace\u001b[0m",
      "invalid format string: expected `'}'`, found `'?'`"
     ]
    }
   ],
   "source": [
    "// Creacion de tuplas\n",
    "\n",
    "let x: (i32, f64) = (500, 6.4);\n",
    "let quinientos = x.0;\n",
    "let seis_punto_cuatro = x.1;\n",
    "\n",
    "println!(\"El valor de la tupla es: {:?}\", x);\n",
    "println!(\"El valor de la tupla es: ({}, {})\", quinientos, seis_punto_cuatro);\n",
    "\n",
    ":vars\n",
    "\n",
    " let arr = [1, 2, 3, 4, 5];\n",
    "// iterar sobre el arreglo utilizando el metodo iter(),\n",
    "for v in arr.iter() {\n",
    "    println!(\" {}  \", v) ;\n",
    "}\n",
    "// tambien se pueden acceder a los valores de un arreglo consultando su indice\n",
    "\n",
    "println!(\" Valor en la tercera posicion {}\", arr[2]);\n",
    "\n",
    "\n",
    "\n",
    "let names = [\"Pepe\", \"Juan\", \"Manuela\", \"Andrea\"];\n",
    "\n",
    "let tup;\n",
    "\n",
    "println!( \"Tupla que contiene el segundo nombre, junto con su tamaño {?:} \", tup);\n"
   ]
  },
  {
   "cell_type": "markdown",
   "metadata": {},
   "source": [
    "\n",
    "En el siguiente ejemplo se evidencia la comunicacion entre dos hilos, el hilo generado le envia un valor al hilo principal. Cuando el hilo principal recive el valor, imprime este valor y algunos multiplos de dicho valor. Modifique el codigo para que calcule la sumatoria de 1 a 100, donde el hilo generado calcule la mitad de la sumatoria y luego se lo envie al hilo principal. El hilo principal calcula la otra mitad\n",
    "\n",
    "*Problema adicional* trate de modificar el codigo para generar mas hilos y dividir el calculo de la sumatoria entre la cantidad de hilos generados"
   ]
  },
  {
   "cell_type": "code",
   "execution_count": 21,
   "metadata": {},
   "outputs": [
    {
     "name": "stdout",
     "output_type": "stream",
     "text": [
      "Got: 3\n",
      "1 * Got = 3\n",
      "2 * Got = 6\n",
      "3 * Got = 9\n"
     ]
    },
    {
     "data": {
      "text/plain": [
       "()"
      ]
     },
     "execution_count": 21,
     "metadata": {},
     "output_type": "execute_result"
    }
   ],
   "source": [
    "use std::thread;\n",
    "use std::sync::mpsc;\n",
    "\n",
    "    let (tx, rx) = mpsc::channel();\n",
    "\n",
    "    thread::spawn(move || {\n",
    "        let val = 3;\n",
    "        tx.send(val).unwrap();\n",
    "    });\n",
    "\n",
    "    let received = rx.recv().unwrap();\n",
    "    \n",
    "    println!(\"Got: {}\", received);\n",
    "    for i in (1..4) {\n",
    "        println!(\"{} * Got = {}\", i, i*(received) );\n",
    "    }\n"
   ]
  }
 ],
 "metadata": {
  "kernelspec": {
   "display_name": "Rust",
   "language": "rust",
   "name": "rust"
  },
  "language_info": {
   "codemirror_mode": "rust",
   "file_extension": ".rs",
   "mimetype": "text/rust",
   "name": "Rust",
   "pygment_lexer": "rust",
   "version": ""
  }
 },
 "nbformat": 4,
 "nbformat_minor": 2
}
